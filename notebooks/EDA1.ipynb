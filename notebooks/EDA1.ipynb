{
 "cells": [
  {
   "cell_type": "markdown",
   "metadata": {},
   "source": [
    "# EDA 1"
   ]
  },
  {
   "cell_type": "code",
   "execution_count": 5,
   "metadata": {},
   "outputs": [
    {
     "name": "stdout",
     "output_type": "stream",
     "text": [
      "['c:\\\\Users\\\\David\\\\miniconda3\\\\envs\\\\general_data_science\\\\python312.zip', 'c:\\\\Users\\\\David\\\\miniconda3\\\\envs\\\\general_data_science\\\\DLLs', 'c:\\\\Users\\\\David\\\\miniconda3\\\\envs\\\\general_data_science\\\\Lib', 'c:\\\\Users\\\\David\\\\miniconda3\\\\envs\\\\general_data_science', '', 'c:\\\\Users\\\\David\\\\miniconda3\\\\envs\\\\general_data_science\\\\Lib\\\\site-packages', 'c:\\\\Users\\\\David\\\\miniconda3\\\\envs\\\\general_data_science\\\\Lib\\\\site-packages\\\\win32', 'c:\\\\Users\\\\David\\\\miniconda3\\\\envs\\\\general_data_science\\\\Lib\\\\site-packages\\\\win32\\\\lib', 'c:\\\\Users\\\\David\\\\miniconda3\\\\envs\\\\general_data_science\\\\Lib\\\\site-packages\\\\Pythonwin', '../', '../../', '../../']\n"
     ]
    }
   ],
   "source": [
    "# Importing external libraries\n",
    "from pandas import DataFrame # Data loading for analysis.\n",
    "from typing import Dict # Dict type for the query_results method\n",
    "from pathlib import Path # For dealing with paths independetly of the platform and creating files"
   ]
  },
  {
   "cell_type": "code",
   "execution_count": 4,
   "metadata": {},
   "outputs": [
    {
     "ename": "ImportError",
     "evalue": "attempted relative import with no known parent package",
     "output_type": "error",
     "traceback": [
      "\u001b[1;31m---------------------------------------------------------------------------\u001b[0m",
      "\u001b[1;31mImportError\u001b[0m                               Traceback (most recent call last)",
      "Cell \u001b[1;32mIn[4], line 2\u001b[0m\n\u001b[0;32m      1\u001b[0m \u001b[38;5;66;03m# Make environment\u001b[39;00m\n\u001b[1;32m----> 2\u001b[0m \u001b[38;5;28;01mfrom\u001b[39;00m \u001b[38;5;21;01m.\u001b[39;00m\u001b[38;5;21;01m.\u001b[39;00m\u001b[38;5;21;01msrc\u001b[39;00m\u001b[38;5;21;01m.\u001b[39;00m\u001b[38;5;21;01mdata\u001b[39;00m\u001b[38;5;21;01m.\u001b[39;00m\u001b[38;5;21;01mmake_env\u001b[39;00m \u001b[38;5;28;01mimport\u001b[39;00m main \u001b[38;5;28;01mas\u001b[39;00m make_env\n\u001b[0;32m      3\u001b[0m make_env()\n\u001b[0;32m      5\u001b[0m \u001b[38;5;66;03m# Load env variables\u001b[39;00m\n",
      "\u001b[1;31mImportError\u001b[0m: attempted relative import with no known parent package"
     ]
    }
   ],
   "source": [
    "# Make environment\n",
    "from ..src.data.make_env import main as make_env\n",
    "make_env()\n",
    "\n",
    "# Load env variables\n",
    "from dotenv import dotenv_values\n",
    "env_vars = dotenv_values()"
   ]
  },
  {
   "cell_type": "code",
   "execution_count": null,
   "metadata": {},
   "outputs": [],
   "source": [
    "# Make dataset (Extract and Load)\n",
    "from src.data.make_dataset import main as make_dataset\n",
    "input_filepath = \"src/data/make_dataset.py\" \n",
    "output_filepath = \"data/raw data/processed\"\n",
    "\n",
    "db_engine = make_dataset(input_filepath, output_filepath, return_engine=True)"
   ]
  },
  {
   "cell_type": "markdown",
   "metadata": {},
   "source": [
    "# Queries"
   ]
  },
  {
   "cell_type": "code",
   "execution_count": null,
   "metadata": {},
   "outputs": [],
   "source": [
    "# Create instance of QueriesTransform\n",
    "from src.data.transform import QueriesTransform\n",
    "queries_transform = QueriesTransform(db_engine, env_vars[\"QUERIES_ROOT_PATH\"])\n",
    "queries_results = queries_transform.get_queries_results()"
   ]
  },
  {
   "cell_type": "code",
   "execution_count": null,
   "metadata": {},
   "outputs": [],
   "source": [
    "# Freight value weight relationship\n",
    "queries_results[\"get_freight_value_weight_relationship\"]"
   ]
  },
  {
   "cell_type": "code",
   "execution_count": null,
   "metadata": {},
   "outputs": [],
   "source": [
    "# Global amount order status\n",
    "queries_results[\"global_ammount_order_status\"]"
   ]
  },
  {
   "cell_type": "code",
   "execution_count": null,
   "metadata": {},
   "outputs": [],
   "source": [
    "# Real vs Predicted delivered time\n",
    "queries_results[\"real_vs_estimated_delivered_time\"]"
   ]
  },
  {
   "cell_type": "code",
   "execution_count": null,
   "metadata": {},
   "outputs": [],
   "source": [
    "# Revenue by month-year\n",
    "queries_results[\"revenue_by_month_year\"]"
   ]
  },
  {
   "cell_type": "code",
   "execution_count": null,
   "metadata": {},
   "outputs": [],
   "source": [
    "# Revenue per state\n",
    "queries_results[\"revenue_per_state\"]"
   ]
  },
  {
   "cell_type": "code",
   "execution_count": null,
   "metadata": {},
   "outputs": [],
   "source": [
    "# Top 10 least revenue categories\n",
    "queries_results[\"top_10_least_revenue_categories\"]"
   ]
  },
  {
   "cell_type": "code",
   "execution_count": null,
   "metadata": {},
   "outputs": [],
   "source": [
    "# Top 10 revenue categories\n",
    "queries_results[\"top_10_revenue_categories\"]"
   ]
  },
  {
   "cell_type": "code",
   "execution_count": null,
   "metadata": {},
   "outputs": [],
   "source": [
    "# Delivery date difference\n",
    "queries_results[\"delivery_date_difference\"]"
   ]
  },
  {
   "cell_type": "code",
   "execution_count": null,
   "metadata": {},
   "outputs": [],
   "source": [
    "# Order amount per day with holidays\n",
    "queries_results[\"orders_per_day_and_holidays_2017\"]"
   ]
  },
  {
   "cell_type": "code",
   "execution_count": null,
   "metadata": {},
   "outputs": [],
   "source": [
    "# Top 10 revenue categories ammount\n",
    "queries_results[\"\"]"
   ]
  },
  {
   "cell_type": "markdown",
   "metadata": {},
   "source": [
    "# Plots"
   ]
  },
  {
   "cell_type": "code",
   "execution_count": null,
   "metadata": {},
   "outputs": [],
   "source": [
    "from src.visualization.visualize import (\n",
    "    plot_freight_value_weight_relationship,\n",
    "    plot_global_amount_order_status,\n",
    "    plot_real_vs_predicted_delivered_time,\n",
    "    plot_revenue_by_month_year,\n",
    "    plot_revenue_per_state,\n",
    "    plot_top_10_least_revenue_categories,\n",
    "    plot_top_10_revenue_categories,\n",
    "    plot_top_10_revenue_categories_ammount,\n",
    "    plot_delivery_date_difference,\n",
    "    plot_order_amount_per_day_with_holidays\n",
    ")"
   ]
  }
 ],
 "metadata": {
  "kernelspec": {
   "display_name": "general_data_science",
   "language": "python",
   "name": "python3"
  },
  "language_info": {
   "codemirror_mode": {
    "name": "ipython",
    "version": 3
   },
   "file_extension": ".py",
   "mimetype": "text/x-python",
   "name": "python",
   "nbconvert_exporter": "python",
   "pygments_lexer": "ipython3",
   "version": "3.12.4"
  }
 },
 "nbformat": 4,
 "nbformat_minor": 2
}
